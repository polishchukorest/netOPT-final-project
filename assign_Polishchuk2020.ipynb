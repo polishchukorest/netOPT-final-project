{
 "cells": [
  {
   "cell_type": "markdown",
   "metadata": {},
   "source": [
    "## The Team Orienteering Problem (TOP)\n",
    "is an attractive variant of the Vehicle Routing Problem (VRP).The\n",
    "aim is to select customers and at the same time organize the visits for a vehicle fleet so as to maximize\n",
    "the collected profits and subject to a travel time restriction on each vehicle."
   ]
  },
  {
   "cell_type": "markdown",
   "metadata": {},
   "source": [
    "TOP is modeled with a complete directed graph G = (V, A)\n",
    "where V = {1,…,n }∪{d,a} is the set of vertices representing the\n",
    "customers and the depots, and A = {(i,j)i,j ∈ V|i≠j} the set of\n",
    "arcs linking the different vertices together.The departure and the\n",
    "arrival depots for the vehicles are representaed by the vertices d\n",
    "and a."
   ]
  },
  {
   "cell_type": "code",
   "execution_count": 374,
   "metadata": {},
   "outputs": [],
   "source": [
    "#!/usr/bin/env python\n",
    "#all libraries needed are imported here\n",
    "\n",
    "import networkx as nx\n",
    "import gurobipy as gb\n",
    "import argparse\n",
    "from argparse import ArgumentTypeError\n",
    "import os\n",
    "from itertools import combinations\n",
    "import matplotlib.pyplot as plt\n",
    "import numpy as np\n",
    "\n",
    "%matplotlib inline\n"
   ]
  },
  {
   "cell_type": "code",
   "execution_count": 375,
   "metadata": {},
   "outputs": [],
   "source": [
    "# Classical functions needed to represent the graph and the solution\n",
    "# Drawing \n",
    "# functions\n",
    "#\n",
    "\n",
    "#\n",
    "# Drawing \n",
    "# functions\n",
    "#\n",
    "\n",
    "\n",
    "def DrawInitG(G, withedges=False):\n",
    "    \n",
    "    plt.figure(figsize=args.figsize)\n",
    "    \n",
    "    pos = {i:(G.nodes[i]['x'], G.nodes[i]['y']) for i in G.nodes()}\n",
    "    \n",
    "    nx.draw_networkx_nodes(G, pos=pos, linewidths=0.6, fontsize=8,\\\n",
    "                           shape='circle', node_size=500,\\\n",
    "                           node_color='white', edgecolors='black')\n",
    "    \n",
    "    nx.draw_networkx_labels(G, pos=pos, font_color='k')\n",
    "    \n",
    "    if withedges:\n",
    "        nx.draw_networkx_edges(G,pos=pos, alpha=1.0)\n",
    "        labels = {(i,j):G.get_edge_data(i,j,'cost').get('cost') for i,j in G.edges()}\n",
    "        nx.draw_networkx_edge_labels(G, pos=pos, edge_labels=labels)\n",
    "    \n",
    "    plt.axis('off')\n",
    "    plt.show()\n",
    "    \n",
    "def DrawSol(G, x):\n",
    "    \n",
    "    plt.figure(figsize=args.figsize)\n",
    "    \n",
    "    pos = {i:(G.nodes[i]['x'], G.nodes[i]['y']) for i in G.nodes()}\n",
    "\n",
    "    \n",
    "    nx.draw_networkx_nodes(G, pos=pos, linewidths=0.6, fontsize=8,\\\n",
    "                           shape='circle', node_size=500,\\\n",
    "                           node_color='white', edgecolors='black')\n",
    "    \n",
    "    nx.draw_networkx_labels(G, pos=pos, font_color='k')\n",
    "    \n",
    "    for u,v in G.edges():\n",
    "        if x[u,v].x > 0.01 and x[u,v].x < 0.99:\n",
    "            \n",
    "            nx.draw_networkx_edges(G, pos=pos,\\\n",
    "                                   edgelist=[(u,v)],\n",
    "                                   edge_color='r')\n",
    "            \n",
    "            nx.draw_networkx_edge_labels(G, pos=pos, \\\n",
    "                                         edgelist=[(u,v)],\\\n",
    "                                         edge_labels={(u,v):'{:.2f}'.format(x[u,v].x)})\n",
    "        \n",
    "        if x[u,v].x > 0.9:\n",
    "            nx.draw_networkx_edges(G, pos=pos,\\\n",
    "                                   edgelist=[(u,v)],\\\n",
    "                                   edge_color='k')\n",
    "        \n",
    "    \n",
    "    plt.axis('off')\n",
    "    plt.show()\n",
    "\n",
    "\n",
    "\n",
    "\n",
    "    \n",
    "class args:\n",
    "    filename = None\n",
    "    scale = 30\n",
    "    capacity = 5000\n",
    "    figsize = (20,10)\n",
    "    "
   ]
  },
  {
   "cell_type": "code",
   "execution_count": 376,
   "metadata": {},
   "outputs": [
    {
     "name": "stdout",
     "output_type": "stream",
     "text": [
      "G has 15 nodes and 210 edges\n"
     ]
    },
    {
     "data": {
      "image/png": "[encoded data removed]",
      "text/plain": [
       "<Figure size 1440x720 with 1 Axes>"
      ]
     },
     "metadata": {},
     "output_type": "display_data"
    }
   ],
   "source": [
    "# \n",
    "# Read the graph in the graphML format\n",
    "#\n",
    "\n",
    "args.filename = 'assgnPolishchuk.gml'\n",
    "\n",
    "basename = os.path.splitext(args.filename)[0]\n",
    "\n",
    "G = nx.read_graphml (args.filename, node_type=int)\n",
    "\n",
    "print (\"G has\", G.number_of_nodes(), \"nodes and\", G.number_of_edges(), \"edges\")\n",
    "\n",
    "depot = list(G.nodes())[0]\n",
    "\n",
    "DrawInitG(G)\n",
    "\n"
   ]
  },
  {
   "cell_type": "code",
   "execution_count": 377,
   "metadata": {},
   "outputs": [
    {
     "data": {
      "text/plain": [
       "NodeDataView({1: {'y': 36, 'x': 9, 'profit': 778}, 2: {'y': 29, 'x': 30, 'profit': 1378}, 3: {'y': 33, 'x': 22, 'profit': 458}, 4: {'y': 26, 'x': 1, 'profit': 1747}, 5: {'y': 2, 'x': 22, 'profit': 1483}, 6: {'y': 9, 'x': 18, 'profit': 180}, 7: {'y': 46, 'x': 23, 'profit': 1518}, 8: {'y': 10, 'x': 8, 'profit': 340}, 9: {'y': 13, 'x': 3, 'profit': 451}, 10: {'y': 36, 'x': 11, 'profit': 1249}, 11: {'y': 1, 'x': 19, 'profit': 129}, 12: {'y': 4, 'x': 20, 'profit': 939}, 13: {'y': 35, 'x': 23, 'profit': 768}, 14: {'y': 32, 'x': 8, 'profit': 1037}, 15: {'y': 4, 'x': 9, 'profit': 1529}})"
      ]
     },
     "execution_count": 377,
     "metadata": {},
     "output_type": "execute_result"
    }
   ],
   "source": [
    "G.nodes(data=True)"
   ]
  },
  {
   "cell_type": "code",
   "execution_count": 378,
   "metadata": {},
   "outputs": [],
   "source": [
    "# Model init. L variable from paper and profit list.\n",
    "top = gb.Model(\"TOP formulation\")\n",
    "\n",
    "L = 100000# would be a travel cost limit \n",
    "\n",
    "profit = nx.get_node_attributes (G,'profit')\n",
    "\n",
    "\n",
    "top.write('top.lp')"
   ]
  },
  {
   "cell_type": "code",
   "execution_count": 379,
   "metadata": {},
   "outputs": [
    {
     "data": {
      "text/plain": [
       "{(1, 2): 2217,\n",
       " (1, 3): 1343,\n",
       " (1, 4): 1290,\n",
       " (1, 5): 3650,\n",
       " (1, 6): 2853,\n",
       " (1, 7): 1720,\n",
       " (1, 8): 2607,\n",
       " (1, 9): 2385,\n",
       " (1, 10): 207,\n",
       " (1, 11): 3650,\n",
       " (1, 12): 3388,\n",
       " (1, 13): 1413,\n",
       " (1, 14): 412,\n",
       " (1, 15): 3210,\n",
       " (2, 1): 2220,\n",
       " (2, 3): 899,\n",
       " (2, 4): 2918,\n",
       " (2, 5): 2825,\n",
       " (2, 6): 2342,\n",
       " (2, 7): 1842,\n",
       " (2, 8): 2914,\n",
       " (2, 9): 3142,\n",
       " (2, 10): 2030,\n",
       " (2, 11): 3018,\n",
       " (2, 12): 2696,\n",
       " (2, 13): 929,\n",
       " (2, 14): 2229,\n",
       " (2, 15): 3267,\n",
       " (3, 1): 1338,\n",
       " (3, 2): 903,\n",
       " (3, 4): 2218,\n",
       " (3, 5): 3100,\n",
       " (3, 6): 2440,\n",
       " (3, 7): 1311,\n",
       " (3, 8): 2693,\n",
       " (3, 9): 2758,\n",
       " (3, 10): 1148,\n",
       " (3, 11): 3221,\n",
       " (3, 12): 2915,\n",
       " (3, 13): 232,\n",
       " (3, 14): 1413,\n",
       " (3, 15): 3181,\n",
       " (4, 1): 1282,\n",
       " (4, 2): 2918,\n",
       " (4, 3): 2219,\n",
       " (4, 5): 3198,\n",
       " (4, 6): 2407,\n",
       " (4, 7): 2978,\n",
       " (4, 8): 1756,\n",
       " (4, 9): 1325,\n",
       " (4, 10): 1414,\n",
       " (4, 11): 3083,\n",
       " (4, 12): 2916,\n",
       " (4, 13): 2382,\n",
       " (4, 14): 926,\n",
       " (4, 15): 2347,\n",
       " (5, 1): 3643,\n",
       " (5, 2): 2822,\n",
       " (5, 3): 3105,\n",
       " (5, 4): 3199,\n",
       " (5, 6): 814,\n",
       " (5, 7): 4403,\n",
       " (5, 8): 1619,\n",
       " (5, 9): 2197,\n",
       " (5, 10): 3575,\n",
       " (5, 11): 321,\n",
       " (5, 12): 283,\n",
       " (5, 13): 3306,\n",
       " (5, 14): 3312,\n",
       " (5, 15): 1317,\n",
       " (6, 1): 2851,\n",
       " (6, 2): 2336,\n",
       " (6, 3): 2439,\n",
       " (6, 4): 2412,\n",
       " (6, 5): 811,\n",
       " (6, 7): 3742,\n",
       " (6, 8): 1009,\n",
       " (6, 9): 1557,\n",
       " (6, 10): 2791,\n",
       " (6, 11): 809,\n",
       " (6, 12): 542,\n",
       " (6, 13): 2655,\n",
       " (6, 14): 2507,\n",
       " (6, 15): 1038,\n",
       " (7, 1): 1723,\n",
       " (7, 2): 1840,\n",
       " (7, 3): 1306,\n",
       " (7, 4): 2974,\n",
       " (7, 5): 4406,\n",
       " (7, 6): 3733,\n",
       " (7, 8): 3905,\n",
       " (7, 9): 3867,\n",
       " (7, 10): 1562,\n",
       " (7, 11): 4523,\n",
       " (7, 12): 4216,\n",
       " (7, 13): 1102,\n",
       " (7, 14): 2052,\n",
       " (7, 15): 4433,\n",
       " (8, 1): 2611,\n",
       " (8, 2): 2912,\n",
       " (8, 3): 2693,\n",
       " (8, 4): 1756,\n",
       " (8, 5): 1615,\n",
       " (8, 6): 1013,\n",
       " (8, 7): 3905,\n",
       " (8, 9): 583,\n",
       " (8, 10): 2619,\n",
       " (8, 11): 1421,\n",
       " (8, 12): 1341,\n",
       " (8, 13): 2916,\n",
       " (8, 14): 2210,\n",
       " (8, 15): 614,\n",
       " (9, 1): 2380,\n",
       " (9, 2): 3145,\n",
       " (9, 3): 2767,\n",
       " (9, 4): 1323,\n",
       " (9, 5): 2199,\n",
       " (9, 6): 1558,\n",
       " (9, 7): 3865,\n",
       " (9, 8): 583,\n",
       " (9, 10): 2435,\n",
       " (9, 11): 2006,\n",
       " (9, 12): 1924,\n",
       " (9, 13): 2980,\n",
       " (9, 14): 1965,\n",
       " (9, 15): 1088,\n",
       " (10, 1): 203,\n",
       " (10, 2): 2031,\n",
       " (10, 3): 1147,\n",
       " (10, 4): 1414,\n",
       " (10, 5): 3574,\n",
       " (10, 6): 2789,\n",
       " (10, 7): 1572,\n",
       " (10, 8): 2621,\n",
       " (10, 9): 2438,\n",
       " (10, 11): 3598,\n",
       " (10, 12): 3332,\n",
       " (10, 13): 1209,\n",
       " (10, 14): 509,\n",
       " (10, 15): 3211,\n",
       " (11, 1): 3641,\n",
       " (11, 2): 3010,\n",
       " (11, 3): 3219,\n",
       " (11, 4): 3082,\n",
       " (11, 5): 318,\n",
       " (11, 6): 810,\n",
       " (11, 7): 4524,\n",
       " (11, 8): 1422,\n",
       " (11, 9): 2001,\n",
       " (11, 10): 3594,\n",
       " (11, 12): 326,\n",
       " (11, 13): 3426,\n",
       " (11, 14): 3290,\n",
       " (11, 15): 1053,\n",
       " (12, 1): 3389,\n",
       " (12, 2): 2702,\n",
       " (12, 3): 2906,\n",
       " (12, 4): 2908,\n",
       " (12, 5): 289,\n",
       " (12, 6): 541,\n",
       " (12, 7): 4215,\n",
       " (12, 8): 1348,\n",
       " (12, 9): 1930,\n",
       " (12, 10): 3328,\n",
       " (12, 11): 322,\n",
       " (12, 13): 3114,\n",
       " (12, 14): 3046,\n",
       " (12, 15): 1105,\n",
       " (13, 1): 1405,\n",
       " (13, 2): 924,\n",
       " (13, 3): 229,\n",
       " (13, 4): 2381,\n",
       " (13, 5): 3301,\n",
       " (13, 6): 2647,\n",
       " (13, 7): 1101,\n",
       " (13, 8): 2919,\n",
       " (13, 9): 2976,\n",
       " (13, 10): 1214,\n",
       " (13, 11): 3432,\n",
       " (13, 12): 3117,\n",
       " (13, 14): 1538,\n",
       " (13, 15): 3401,\n",
       " (14, 1): 415,\n",
       " (14, 2): 2221,\n",
       " (14, 3): 1411,\n",
       " (14, 4): 929,\n",
       " (14, 5): 3313,\n",
       " (14, 6): 2507,\n",
       " (14, 7): 2055,\n",
       " (14, 8): 2206,\n",
       " (14, 9): 1970,\n",
       " (14, 10): 503,\n",
       " (14, 11): 3299,\n",
       " (14, 12): 3051,\n",
       " (14, 13): 1538,\n",
       " (14, 15): 2805,\n",
       " (15, 1): 3209,\n",
       " (15, 2): 3272,\n",
       " (15, 3): 3188,\n",
       " (15, 4): 2341,\n",
       " (15, 5): 1322,\n",
       " (15, 6): 1038,\n",
       " (15, 7): 4437,\n",
       " (15, 8): 613,\n",
       " (15, 9): 1089,\n",
       " (15, 10): 3209,\n",
       " (15, 11): 1047,\n",
       " (15, 12): 1107,\n",
       " (15, 13): 3411,\n",
       " (15, 14): 2804}"
      ]
     },
     "execution_count": 379,
     "metadata": {},
     "output_type": "execute_result"
    }
   ],
   "source": [
    "#List of all distances attributes that we have in the graph\n",
    "Distance = nx.get_edge_attributes (G,'dist')\n",
    "\n",
    "\n",
    "Distance"
   ]
  },
  {
   "cell_type": "code",
   "execution_count": 380,
   "metadata": {},
   "outputs": [],
   "source": [
    "# a,d variables from formulation. M - number of identical machines.\n",
    "departure = 1\n",
    "arrival = 15\n",
    "m = 3\n"
   ]
  },
  {
   "cell_type": "code",
   "execution_count": 381,
   "metadata": {},
   "outputs": [],
   "source": [
    "# Our decission variables, vtype for each is binary, so we are implementing the integral requir. from the paper.\n",
    "x = top.addVars([(i,j) for (i,j) in G.edges()],\n",
    "                    vtype=gb.GRB.BINARY,\n",
    "                    name='x')\n",
    "\n",
    "y = top.addVars([i for i in G.nodes()],\n",
    "                   vtype=gb.GRB.BINARY,\n",
    "                    name='y')\n"
   ]
  },
  {
   "cell_type": "code",
   "execution_count": 382,
   "metadata": {},
   "outputs": [],
   "source": [
    "# We want each client to be visited just once, excluding the depart. and arrival nodes.\n",
    "# Assignment constraints\n",
    "#\n",
    "\n",
    "#\n",
    "# Forward star\n",
    "#\n",
    "\n",
    "top.addConstrs((x.sum(i,'*') == 1 for i in G.nodes() if i != arrival and i != departure), name='FS')\n",
    "\n",
    "\n",
    "\n",
    "# Reverse star\n",
    "#\n",
    "\n",
    "top.addConstrs((x.sum('*',i) == 1 for i in G.nodes() if i != departure and i!= arrival), name='RS')\n",
    "\n",
    "\n",
    "top.update()\n",
    "\n"
   ]
  },
  {
   "cell_type": "code",
   "execution_count": 383,
   "metadata": {},
   "outputs": [],
   "source": [
    "# Here is the constraints that i`ve modified from MTSP model to meet the requirments from the paper (about the arrival \n",
    "# and dep. nodes)\n",
    "top.addConstr(x.sum(departure,'*') == m, name = 'OUT-R')\n",
    "top.addConstr(x.sum('*',arrival) == m, name = 'IN-R')\n",
    "\n",
    "top.update()"
   ]
  },
  {
   "cell_type": "code",
   "execution_count": 384,
   "metadata": {},
   "outputs": [
    {
     "data": {
      "text/plain": [
       "{1: 0,\n",
       " 2: 1378,\n",
       " 3: 458,\n",
       " 4: 1747,\n",
       " 5: 1483,\n",
       " 6: 180,\n",
       " 7: 1518,\n",
       " 8: 340,\n",
       " 9: 451,\n",
       " 10: 1249,\n",
       " 11: 129,\n",
       " 12: 939,\n",
       " 13: 768,\n",
       " 14: 1037,\n",
       " 15: 0}"
      ]
     },
     "execution_count": 384,
     "metadata": {},
     "output_type": "execute_result"
    }
   ],
   "source": [
    "profit = nx.get_node_attributes (G,'profit')\n",
    "# profit is considered zero for 2 depots as stated in the paper\n",
    "profit[1]=0\n",
    "profit[15]=0\n",
    "profit"
   ]
  },
  {
   "cell_type": "code",
   "execution_count": 385,
   "metadata": {},
   "outputs": [],
   "source": [
    "# function that is needed to be optimized\n",
    "top.setObjective(y.prod(profit), gb.GRB.MAXIMIZE)"
   ]
  },
  {
   "cell_type": "code",
   "execution_count": 386,
   "metadata": {},
   "outputs": [],
   "source": [
    "top.addConstrs((y.sum(i,'*') <= 1 for i in G.nodes()),name='Each_cus_visited_once')\n",
    "top.update()"
   ]
  },
  {
   "cell_type": "code",
   "execution_count": 387,
   "metadata": {},
   "outputs": [
    {
     "name": "stdout",
     "output_type": "stream",
     "text": [
      "Warning: constraint name \"travel length restr.\" has a space\n"
     ]
    }
   ],
   "source": [
    "top.addConstr((gb.quicksum(x[i,j]*Distance[i,j] for i,j in G.edges()) <= L),name='travel length restr.')\n",
    "\n",
    "top.update()\n",
    "top.write('top.lp')"
   ]
  },
  {
   "cell_type": "code",
   "execution_count": 388,
   "metadata": {},
   "outputs": [
    {
     "name": "stdout",
     "output_type": "stream",
     "text": [
      "Warning: constraint name \"travel length restr.\" has a space\n"
     ]
    }
   ],
   "source": [
    "top.addConstrs((x[i,j] + x[j,i] <= 1 \\\n",
    "                 for i,j in G.edges() \\\n",
    "                 if j > i and i != departure or arrival and j != departure or arrival ),\\\n",
    "                name='SUB2')\n",
    "\n",
    "top.update()\n",
    "top.write('top.lp')"
   ]
  },
  {
   "cell_type": "code",
   "execution_count": 389,
   "metadata": {},
   "outputs": [
    {
     "name": "stdout",
     "output_type": "stream",
     "text": [
      "Warning: constraint name \"travel length restr.\" has a space\n"
     ]
    }
   ],
   "source": [
    "top.addConstrs ((x[i,j] == 0 for i,j in G.edges() if j==departure), name='root constr')\n",
    "\n",
    "top.addConstrs ((x[i,j] == 0 for i,j in G.edges() if i==arrival), name='arr constr')\n",
    "\n",
    "top.write('top.lp')\n",
    "top.update()"
   ]
  },
  {
   "cell_type": "code",
   "execution_count": 390,
   "metadata": {},
   "outputs": [
    {
     "name": "stdout",
     "output_type": "stream",
     "text": [
      "Gurobi Optimizer version 9.0.2 build v9.0.2rc0 (win64)\n",
      "Optimize a model with 282 rows, 225 columns and 1065 nonzeros\n",
      "Model fingerprint: 0x61e406c6\n",
      "Variable types: 0 continuous, 225 integer (225 binary)\n",
      "Coefficient statistics:\n",
      "  Matrix range     [1e+00, 5e+03]\n",
      "  Objective range  [1e+02, 2e+03]\n",
      "  Bounds range     [1e+00, 1e+00]\n",
      "  RHS range        [1e+00, 1e+05]\n",
      "Found heuristic solution: objective 11677.000000\n",
      "\n",
      "Explored 0 nodes (0 simplex iterations) in 0.00 seconds\n",
      "Thread count was 1 (of 8 available processors)\n",
      "\n",
      "Solution count 1: 11677 \n",
      "\n",
      "Optimal solution found (tolerance 1.00e-04)\n",
      "Best objective 1.167700000000e+04, best bound 1.167700000000e+04, gap 0.0000%\n"
     ]
    }
   ],
   "source": [
    "top.optimize()"
   ]
  },
  {
   "cell_type": "code",
   "execution_count": 391,
   "metadata": {},
   "outputs": [
    {
     "data": {
      "image/png": "[encoded data removed]",
      "text/plain": [
       "<Figure size 1440x720 with 1 Axes>"
      ]
     },
     "metadata": {},
     "output_type": "display_data"
    }
   ],
   "source": [
    "DrawSol(G, x)"
   ]
  }
 ],
 "metadata": {
  "kernelspec": {
   "display_name": "Python 3",
   "language": "python",
   "name": "python3"
  },
  "language_info": {
   "codemirror_mode": {
    "name": "ipython",
    "version": 3
   },
   "file_extension": ".py",
   "mimetype": "text/x-python",
   "name": "python",
   "nbconvert_exporter": "python",
   "pygments_lexer": "ipython3",
   "version": "3.7.6"
  }
 },
 "nbformat": 4,
 "nbformat_minor": 4
}
